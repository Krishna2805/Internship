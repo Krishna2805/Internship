{
 "cells": [
  {
   "cell_type": "markdown",
   "id": "bb63875d",
   "metadata": {},
   "source": [
    "implementation of a multi-layer perceptron (MLP) from scratch in Python (using NumPy) to solve the XOR classification problem. It uses gradient descent for training and includes visualization of the decision boundary."
   ]
  },
  {
   "cell_type": "code",
   "execution_count": 16,
   "id": "a88234f1",
   "metadata": {},
   "outputs": [],
   "source": [
    "import numpy as np\n",
    "import matplotlib.pyplot as plt\n"
   ]
  },
  {
   "cell_type": "code",
   "execution_count": 17,
   "id": "ed3b4969",
   "metadata": {},
   "outputs": [],
   "source": [
    "\n",
    "# Activation functions and their derivatives\n",
    "def sigmoid(x):\n",
    "    return 1 / (1 + np.exp(-x))\n",
    "\n",
    "def sigmoid_derivative(x):\n",
    "    return x * (1 - x)"
   ]
  },
  {
   "cell_type": "code",
   "execution_count": null,
   "id": "3a35b7b9",
   "metadata": {},
   "outputs": [],
   "source": [
    "\n",
    "# XOR data\n",
    "X = np.array([[0,0], [0,1], [1,0], [1,1]])\n",
    "y = np.array([[0], [1], [1], [0]])\n",
    "\n",
    "# Set seed for reproducibility\n",
    "np.random.seed(42)\n",
    "\n",
    "# Initialize weights and biases\n",
    "input_size = 2\n",
    "hidden_size = 4\n",
    "output_size = 1\n",
    "\n",
    "W1 = np.random.randn(input_size, hidden_size)\n",
    "b1 = np.zeros((1, hidden_size))\n",
    "W2 = np.random.randn(hidden_size, output_size)\n",
    "b2 = np.zeros((1, output_size))\n",
    "\n",
    "# Training parameters\n",
    "epochs = 10000\n",
    "lr = 0.1"
   ]
  },
  {
   "cell_type": "code",
   "execution_count": null,
   "id": "6abe06c6",
   "metadata": {},
   "outputs": [
    {
     "name": "stdout",
     "output_type": "stream",
     "text": [
      "Epoch 0 - Loss: 0.2832\n",
      "Epoch 1000 - Loss: 0.2452\n",
      "Epoch 2000 - Loss: 0.2124\n",
      "Epoch 3000 - Loss: 0.1503\n",
      "Epoch 4000 - Loss: 0.0572\n",
      "Epoch 5000 - Loss: 0.0209\n",
      "Epoch 6000 - Loss: 0.0107\n",
      "Epoch 7000 - Loss: 0.0067\n",
      "Epoch 8000 - Loss: 0.0047\n",
      "Epoch 9000 - Loss: 0.0035\n"
     ]
    }
   ],
   "source": [
    "\n",
    "# Training loop\n",
    "for epoch in range(epochs):\n",
    "    # Forward pass\n",
    "    z1 = np.dot(X, W1) + b1\n",
    "    a1 = sigmoid(z1)\n",
    "    z2 = np.dot(a1, W2) + b2\n",
    "    a2 = sigmoid(z2)\n",
    "\n",
    "    # Compute loss (Mean Squared Error)\n",
    "    loss = np.mean((y - a2) ** 2)\n",
    "\n",
    "    # Backward pass\n",
    "    d_a2 = (a2 - y)\n",
    "    d_z2 = d_a2 * sigmoid_derivative(a2)\n",
    "    d_W2 = np.dot(a1.T, d_z2)\n",
    "    d_b2 = np.sum(d_z2, axis=0, keepdims=True)\n",
    "\n",
    "    d_a1 = np.dot(d_z2, W2.T)\n",
    "    d_z1 = d_a1 * sigmoid_derivative(a1)\n",
    "    d_W1 = np.dot(X.T, d_z1)\n",
    "    d_b1 = np.sum(d_z1, axis=0, keepdims=True)\n",
    "\n",
    "    # Update weights and biases\n",
    "    W1 -= lr * d_W1\n",
    "    b1 -= lr * d_b1\n",
    "    W2 -= lr * d_W2\n",
    "    b2 -= lr * d_b2\n",
    "\n",
    "    if epoch % 1000 == 0:\n",
    "        print(f\"Epoch {epoch} - Loss: {loss:.4f}\")"
   ]
  },
  {
   "cell_type": "code",
   "execution_count": 20,
   "id": "e677eb8f",
   "metadata": {},
   "outputs": [
    {
     "name": "stdout",
     "output_type": "stream",
     "text": [
      "\n",
      "Final output predictions:\n",
      "[[0.]\n",
      " [1.]\n",
      " [1.]\n",
      " [0.]]\n"
     ]
    },
    {
     "data": {
      "image/png": "[encoded data removed]",
      "text/plain": [
       "<Figure size 640x480 with 1 Axes>"
      ]
     },
     "metadata": {},
     "output_type": "display_data"
    }
   ],
   "source": [
    "\n",
    "# Final output\n",
    "print(\"\\nFinal output predictions:\")\n",
    "print(a2.round())\n",
    "\n",
    "# Plotting decision boundary\n",
    "def plot_decision_boundary(pred_func):\n",
    "    x_min, x_max = X[:,0].min() - 0.1, X[:,0].max() + 0.1\n",
    "    y_min, y_max = X[:,1].min() - 0.1, X[:,1].max() + 0.1\n",
    "    h = 0.01\n",
    "\n",
    "    xx, yy = np.meshgrid(np.arange(x_min, x_max, h),\n",
    "                         np.arange(y_min, y_max, h))\n",
    "    grid = np.c_[xx.ravel(), yy.ravel()]\n",
    "    \n",
    "    # Forward pass\n",
    "    z1 = np.dot(grid, W1) + b1\n",
    "    a1 = sigmoid(z1)\n",
    "    z2 = np.dot(a1, W2) + b2\n",
    "    preds = sigmoid(z2).reshape(xx.shape)\n",
    "    \n",
    "    plt.contourf(xx, yy, preds > 0.5, cmap=plt.cm.Paired, alpha=0.5)\n",
    "    plt.scatter(X[:, 0], X[:, 1], c=y[:, 0], edgecolors='k', cmap=plt.cm.Paired)\n",
    "    plt.title(\"XOR Decision Boundary\")\n",
    "    plt.show()\n",
    "\n",
    "plot_decision_boundary(lambda x: a2)\n"
   ]
  },
  {
   "cell_type": "code",
   "execution_count": null,
   "id": "ca66b012",
   "metadata": {},
   "outputs": [],
   "source": []
  }
 ],
 "metadata": {
  "kernelspec": {
   "display_name": "Python 3",
   "language": "python",
   "name": "python3"
  },
  "language_info": {
   "codemirror_mode": {
    "name": "ipython",
    "version": 3
   },
   "file_extension": ".py",
   "mimetype": "text/x-python",
   "name": "python",
   "nbconvert_exporter": "python",
   "pygments_lexer": "ipython3",
   "version": "3.11.5"
  }
 },
 "nbformat": 4,
 "nbformat_minor": 5
}
