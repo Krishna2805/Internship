{
 "cells": [
  {
   "cell_type": "markdown",
   "id": "89c93e5e",
   "metadata": {},
   "source": [
    "TensorFlow 2.x MNIST Classification with DNN (Only Dense layers)"
   ]
  },
  {
   "cell_type": "code",
   "execution_count": 1,
   "id": "95a27909",
   "metadata": {},
   "outputs": [],
   "source": [
    "import tensorflow as tf\n",
    "from tensorflow.keras import layers, models, regularizers\n",
    "from tensorflow.keras.optimizers import Adam\n",
    "from tensorflow.keras.callbacks import EarlyStopping\n",
    "from tensorflow.keras.layers import Dropout,BatchNormalization, LeakyReLU\n",
    "import matplotlib.pyplot as plt\n",
    "import numpy as np"
   ]
  },
  {
   "cell_type": "code",
   "execution_count": 2,
   "id": "5fda52a3",
   "metadata": {},
   "outputs": [],
   "source": [
    "(train_images, train_labels), (test_images, test_labels) = tf.keras.datasets.mnist.load_data()\n",
    "train_images = train_images.reshape((60000,28*28))/255.0\n",
    "test_images = test_images.reshape((10000,28*28))/255.0"
   ]
  },
  {
   "cell_type": "code",
   "execution_count": 5,
   "id": "dd69662c",
   "metadata": {},
   "outputs": [
    {
     "name": "stdout",
     "output_type": "stream",
     "text": [
      "Epoch 1/100\n",
      "\u001b[1m938/938\u001b[0m \u001b[32m━━━━━━━━━━━━━━━━━━━━\u001b[0m\u001b[37m\u001b[0m \u001b[1m45s\u001b[0m 45ms/step - accuracy: 0.8779 - loss: 0.3963 - val_accuracy: 0.9639 - val_loss: 0.1213\n",
      "Epoch 2/100\n",
      "\u001b[1m938/938\u001b[0m \u001b[32m━━━━━━━━━━━━━━━━━━━━\u001b[0m\u001b[37m\u001b[0m \u001b[1m44s\u001b[0m 47ms/step - accuracy: 0.9583 - loss: 0.1372 - val_accuracy: 0.9645 - val_loss: 0.1109\n",
      "Epoch 3/100\n",
      "\u001b[1m938/938\u001b[0m \u001b[32m━━━━━━━━━━━━━━━━━━━━\u001b[0m\u001b[37m\u001b[0m \u001b[1m47s\u001b[0m 50ms/step - accuracy: 0.9664 - loss: 0.1070 - val_accuracy: 0.9763 - val_loss: 0.0786\n",
      "Epoch 4/100\n",
      "\u001b[1m938/938\u001b[0m \u001b[32m━━━━━━━━━━━━━━━━━━━━\u001b[0m\u001b[37m\u001b[0m \u001b[1m47s\u001b[0m 50ms/step - accuracy: 0.9710 - loss: 0.0940 - val_accuracy: 0.9753 - val_loss: 0.0798\n",
      "Epoch 5/100\n",
      "\u001b[1m938/938\u001b[0m \u001b[32m━━━━━━━━━━━━━━━━━━━━\u001b[0m\u001b[37m\u001b[0m \u001b[1m45s\u001b[0m 48ms/step - accuracy: 0.9765 - loss: 0.0759 - val_accuracy: 0.9743 - val_loss: 0.0862\n",
      "Epoch 6/100\n",
      "\u001b[1m938/938\u001b[0m \u001b[32m━━━━━━━━━━━━━━━━━━━━\u001b[0m\u001b[37m\u001b[0m \u001b[1m45s\u001b[0m 48ms/step - accuracy: 0.9765 - loss: 0.0737 - val_accuracy: 0.9791 - val_loss: 0.0706\n",
      "Epoch 7/100\n",
      "\u001b[1m938/938\u001b[0m \u001b[32m━━━━━━━━━━━━━━━━━━━━\u001b[0m\u001b[37m\u001b[0m \u001b[1m45s\u001b[0m 48ms/step - accuracy: 0.9789 - loss: 0.0665 - val_accuracy: 0.9761 - val_loss: 0.0814\n",
      "Epoch 8/100\n",
      "\u001b[1m938/938\u001b[0m \u001b[32m━━━━━━━━━━━━━━━━━━━━\u001b[0m\u001b[37m\u001b[0m \u001b[1m46s\u001b[0m 49ms/step - accuracy: 0.9785 - loss: 0.0662 - val_accuracy: 0.9781 - val_loss: 0.0695\n",
      "Epoch 9/100\n",
      "\u001b[1m938/938\u001b[0m \u001b[32m━━━━━━━━━━━━━━━━━━━━\u001b[0m\u001b[37m\u001b[0m \u001b[1m82s\u001b[0m 50ms/step - accuracy: 0.9829 - loss: 0.0551 - val_accuracy: 0.9792 - val_loss: 0.0715\n",
      "Epoch 10/100\n",
      "\u001b[1m938/938\u001b[0m \u001b[32m━━━━━━━━━━━━━━━━━━━━\u001b[0m\u001b[37m\u001b[0m \u001b[1m53s\u001b[0m 57ms/step - accuracy: 0.9850 - loss: 0.0484 - val_accuracy: 0.9824 - val_loss: 0.0614\n",
      "Epoch 11/100\n",
      "\u001b[1m938/938\u001b[0m \u001b[32m━━━━━━━━━━━━━━━━━━━━\u001b[0m\u001b[37m\u001b[0m \u001b[1m55s\u001b[0m 59ms/step - accuracy: 0.9857 - loss: 0.0439 - val_accuracy: 0.9828 - val_loss: 0.0608\n",
      "Epoch 12/100\n",
      "\u001b[1m938/938\u001b[0m \u001b[32m━━━━━━━━━━━━━━━━━━━━\u001b[0m\u001b[37m\u001b[0m \u001b[1m56s\u001b[0m 60ms/step - accuracy: 0.9872 - loss: 0.0423 - val_accuracy: 0.9805 - val_loss: 0.0732\n",
      "Epoch 13/100\n",
      "\u001b[1m938/938\u001b[0m \u001b[32m━━━━━━━━━━━━━━━━━━━━\u001b[0m\u001b[37m\u001b[0m \u001b[1m54s\u001b[0m 58ms/step - accuracy: 0.9860 - loss: 0.0453 - val_accuracy: 0.9851 - val_loss: 0.0539\n",
      "Epoch 14/100\n",
      "\u001b[1m938/938\u001b[0m \u001b[32m━━━━━━━━━━━━━━━━━━━━\u001b[0m\u001b[37m\u001b[0m \u001b[1m51s\u001b[0m 54ms/step - accuracy: 0.9887 - loss: 0.0349 - val_accuracy: 0.9837 - val_loss: 0.0525\n",
      "Epoch 15/100\n",
      "\u001b[1m938/938\u001b[0m \u001b[32m━━━━━━━━━━━━━━━━━━━━\u001b[0m\u001b[37m\u001b[0m \u001b[1m49s\u001b[0m 52ms/step - accuracy: 0.9900 - loss: 0.0314 - val_accuracy: 0.9825 - val_loss: 0.0654\n",
      "Epoch 16/100\n",
      "\u001b[1m938/938\u001b[0m \u001b[32m━━━━━━━━━━━━━━━━━━━━\u001b[0m\u001b[37m\u001b[0m \u001b[1m47s\u001b[0m 50ms/step - accuracy: 0.9899 - loss: 0.0309 - val_accuracy: 0.9848 - val_loss: 0.0552\n",
      "Epoch 17/100\n",
      "\u001b[1m938/938\u001b[0m \u001b[32m━━━━━━━━━━━━━━━━━━━━\u001b[0m\u001b[37m\u001b[0m \u001b[1m49s\u001b[0m 52ms/step - accuracy: 0.9917 - loss: 0.0272 - val_accuracy: 0.9851 - val_loss: 0.0536\n",
      "Epoch 18/100\n",
      "\u001b[1m938/938\u001b[0m \u001b[32m━━━━━━━━━━━━━━━━━━━━\u001b[0m\u001b[37m\u001b[0m \u001b[1m47s\u001b[0m 50ms/step - accuracy: 0.9910 - loss: 0.0284 - val_accuracy: 0.9839 - val_loss: 0.0578\n",
      "Epoch 19/100\n",
      "\u001b[1m938/938\u001b[0m \u001b[32m━━━━━━━━━━━━━━━━━━━━\u001b[0m\u001b[37m\u001b[0m \u001b[1m49s\u001b[0m 52ms/step - accuracy: 0.9913 - loss: 0.0270 - val_accuracy: 0.9853 - val_loss: 0.0578\n",
      "Epoch 20/100\n",
      "\u001b[1m938/938\u001b[0m \u001b[32m━━━━━━━━━━━━━━━━━━━━\u001b[0m\u001b[37m\u001b[0m \u001b[1m48s\u001b[0m 51ms/step - accuracy: 0.9931 - loss: 0.0216 - val_accuracy: 0.9836 - val_loss: 0.0617\n",
      "Epoch 21/100\n",
      "\u001b[1m938/938\u001b[0m \u001b[32m━━━━━━━━━━━━━━━━━━━━\u001b[0m\u001b[37m\u001b[0m \u001b[1m48s\u001b[0m 51ms/step - accuracy: 0.9919 - loss: 0.0246 - val_accuracy: 0.9848 - val_loss: 0.0586\n",
      "Epoch 22/100\n",
      "\u001b[1m938/938\u001b[0m \u001b[32m━━━━━━━━━━━━━━━━━━━━\u001b[0m\u001b[37m\u001b[0m \u001b[1m48s\u001b[0m 51ms/step - accuracy: 0.9925 - loss: 0.0233 - val_accuracy: 0.9847 - val_loss: 0.0572\n",
      "Epoch 23/100\n",
      "\u001b[1m938/938\u001b[0m \u001b[32m━━━━━━━━━━━━━━━━━━━━\u001b[0m\u001b[37m\u001b[0m \u001b[1m48s\u001b[0m 51ms/step - accuracy: 0.9934 - loss: 0.0199 - val_accuracy: 0.9860 - val_loss: 0.0556\n",
      "Epoch 24/100\n",
      "\u001b[1m938/938\u001b[0m \u001b[32m━━━━━━━━━━━━━━━━━━━━\u001b[0m\u001b[37m\u001b[0m \u001b[1m47s\u001b[0m 50ms/step - accuracy: 0.9944 - loss: 0.0193 - val_accuracy: 0.9843 - val_loss: 0.0560\n",
      "Epoch 25/100\n",
      "\u001b[1m938/938\u001b[0m \u001b[32m━━━━━━━━━━━━━━━━━━━━\u001b[0m\u001b[37m\u001b[0m \u001b[1m48s\u001b[0m 51ms/step - accuracy: 0.9930 - loss: 0.0198 - val_accuracy: 0.9852 - val_loss: 0.0572\n",
      "Epoch 26/100\n",
      "\u001b[1m938/938\u001b[0m \u001b[32m━━━━━━━━━━━━━━━━━━━━\u001b[0m\u001b[37m\u001b[0m \u001b[1m48s\u001b[0m 51ms/step - accuracy: 0.9936 - loss: 0.0205 - val_accuracy: 0.9870 - val_loss: 0.0545\n",
      "Epoch 27/100\n",
      "\u001b[1m938/938\u001b[0m \u001b[32m━━━━━━━━━━━━━━━━━━━━\u001b[0m\u001b[37m\u001b[0m \u001b[1m48s\u001b[0m 51ms/step - accuracy: 0.9938 - loss: 0.0190 - val_accuracy: 0.9841 - val_loss: 0.0598\n",
      "Epoch 28/100\n",
      "\u001b[1m938/938\u001b[0m \u001b[32m━━━━━━━━━━━━━━━━━━━━\u001b[0m\u001b[37m\u001b[0m \u001b[1m48s\u001b[0m 51ms/step - accuracy: 0.9945 - loss: 0.0165 - val_accuracy: 0.9846 - val_loss: 0.0643\n",
      "Epoch 29/100\n",
      "\u001b[1m938/938\u001b[0m \u001b[32m━━━━━━━━━━━━━━━━━━━━\u001b[0m\u001b[37m\u001b[0m \u001b[1m47s\u001b[0m 50ms/step - accuracy: 0.9947 - loss: 0.0167 - val_accuracy: 0.9862 - val_loss: 0.0565\n",
      "Epoch 30/100\n",
      "\u001b[1m938/938\u001b[0m \u001b[32m━━━━━━━━━━━━━━━━━━━━\u001b[0m\u001b[37m\u001b[0m \u001b[1m80s\u001b[0m 48ms/step - accuracy: 0.9935 - loss: 0.0196 - val_accuracy: 0.9867 - val_loss: 0.0536\n",
      "Epoch 31/100\n",
      "\u001b[1m938/938\u001b[0m \u001b[32m━━━━━━━━━━━━━━━━━━━━\u001b[0m\u001b[37m\u001b[0m \u001b[1m51s\u001b[0m 54ms/step - accuracy: 0.9959 - loss: 0.0130 - val_accuracy: 0.9856 - val_loss: 0.0640\n",
      "Epoch 32/100\n",
      "\u001b[1m938/938\u001b[0m \u001b[32m━━━━━━━━━━━━━━━━━━━━\u001b[0m\u001b[37m\u001b[0m \u001b[1m47s\u001b[0m 50ms/step - accuracy: 0.9940 - loss: 0.0180 - val_accuracy: 0.9852 - val_loss: 0.0556\n",
      "Epoch 33/100\n",
      "\u001b[1m938/938\u001b[0m \u001b[32m━━━━━━━━━━━━━━━━━━━━\u001b[0m\u001b[37m\u001b[0m \u001b[1m49s\u001b[0m 52ms/step - accuracy: 0.9946 - loss: 0.0172 - val_accuracy: 0.9847 - val_loss: 0.0566\n",
      "Epoch 34/100\n",
      "\u001b[1m938/938\u001b[0m \u001b[32m━━━━━━━━━━━━━━━━━━━━\u001b[0m\u001b[37m\u001b[0m \u001b[1m51s\u001b[0m 54ms/step - accuracy: 0.9962 - loss: 0.0121 - val_accuracy: 0.9867 - val_loss: 0.0608\n",
      "Epoch 35/100\n",
      "\u001b[1m938/938\u001b[0m \u001b[32m━━━━━━━━━━━━━━━━━━━━\u001b[0m\u001b[37m\u001b[0m \u001b[1m50s\u001b[0m 53ms/step - accuracy: 0.9963 - loss: 0.0109 - val_accuracy: 0.9832 - val_loss: 0.0734\n",
      "Epoch 36/100\n",
      "\u001b[1m938/938\u001b[0m \u001b[32m━━━━━━━━━━━━━━━━━━━━\u001b[0m\u001b[37m\u001b[0m \u001b[1m48s\u001b[0m 51ms/step - accuracy: 0.9951 - loss: 0.0156 - val_accuracy: 0.9865 - val_loss: 0.0548\n"
     ]
    }
   ],
   "source": [
    "model = models.Sequential([\n",
    "    layers.Dense(1024, activation='relu', input_shape=(28*28,)),\n",
    "    BatchNormalization(),\n",
    "    Dropout(0.2),\n",
    "\n",
    "    layers.Dense(2048, activation='relu'),\n",
    "    BatchNormalization(),\n",
    "    Dropout(0.3),\n",
    "\n",
    "    layers.Dense(1024, activation='relu'),\n",
    "    BatchNormalization(),\n",
    "    Dropout(0.25),\n",
    "\n",
    "    layers.Dense(512, activation='relu'),\n",
    "    BatchNormalization(),\n",
    "    Dropout(0.2),\n",
    "\n",
    "    layers.Dense(256, activation='relu'),\n",
    "    BatchNormalization(),\n",
    "    Dropout(0.15),\n",
    "\n",
    "    layers.Dense(10,activation='softmax')\n",
    "])\n",
    "\n",
    "model.compile(\n",
    "    optimizer=Adam(learning_rate=0.001),\n",
    "    loss='sparse_categorical_crossentropy',\n",
    "    metrics=['accuracy']\n",
    ")\n",
    "\n",
    "early_stopping = EarlyStopping(\n",
    "    monitor='val_accuracy',\n",
    "    patience=10,\n",
    "    restore_best_weights=True,\n",
    "    mode='max'\n",
    ")\n",
    "\n",
    "history = model.fit(\n",
    "    train_images,\n",
    "    train_labels,\n",
    "    epochs=100,\n",
    "    batch_size=64,\n",
    "    validation_data=(test_images, test_labels),\n",
    "    callbacks=[early_stopping]\n",
    ")"
   ]
  },
  {
   "cell_type": "code",
   "execution_count": 6,
   "id": "4fa2b3bd",
   "metadata": {},
   "outputs": [
    {
     "name": "stdout",
     "output_type": "stream",
     "text": [
      "\u001b[1m313/313\u001b[0m \u001b[32m━━━━━━━━━━━━━━━━━━━━\u001b[0m\u001b[37m\u001b[0m \u001b[1m2s\u001b[0m 5ms/step - accuracy: 0.9846 - loss: 0.0672\n",
      "Test loss: 0.055, Test accuracy: 0.9870\n"
     ]
    }
   ],
   "source": [
    "test_loss, test_acc = model.evaluate(test_images,test_labels) \n",
    "print(f'Test loss: {test_loss:.3f}, Test accuracy: {test_acc:.4f}')"
   ]
  },
  {
   "cell_type": "code",
   "execution_count": null,
   "id": "5cc8870e",
   "metadata": {},
   "outputs": [],
   "source": []
  }
 ],
 "metadata": {
  "kernelspec": {
   "display_name": "Python 3",
   "language": "python",
   "name": "python3"
  },
  "language_info": {
   "codemirror_mode": {
    "name": "ipython",
    "version": 3
   },
   "file_extension": ".py",
   "mimetype": "text/x-python",
   "name": "python",
   "nbconvert_exporter": "python",
   "pygments_lexer": "ipython3",
   "version": "3.11.5"
  }
 },
 "nbformat": 4,
 "nbformat_minor": 5
}
